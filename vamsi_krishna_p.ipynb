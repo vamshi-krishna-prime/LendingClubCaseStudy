{
 "cells": [
  {
   "cell_type": "markdown",
   "id": "f65de204",
   "metadata": {},
   "source": [
    "<div style=\"background-color:#cc0000;\">\n",
    "    <p style=\"color:DarkTurquoise;font-size:1px\"> |\n",
    "    </p>\n",
    "    </p>\n",
    "    <p style=\"color:DarkTurquoise;font-size:1px\"> |\n",
    "    </p>\n",
    "    <h1 style=\"color:White;font-family:'Arial';font-size:30px\"><center>Lending Club Case Study</center></h1>\n",
    "    </p>\n",
    "    <p style=\"color:DarkTurquoise;font-size:1px\"> |\n",
    "    </p>\n",
    "    <p style=\"text-align:left;font-family:'Courier New';color:FloralWhite;font-size:16px\"> | PGP in Machine Learning and AI |\n",
    "        <span style=\"float:right;font-family:'Courier New';color:White;font-size:16px\"> | In partner with UpGrad |\n",
    "        </span>\n",
    "    </p>\n",
    "    <p style=\"color:DarkTurquoise;font-size:1px\"> |\n",
    "    </p>\n",
    "</div>"
   ]
  },
  {
   "cell_type": "markdown",
   "id": "4083ef82",
   "metadata": {},
   "source": [
    "----"
   ]
  },
  {
   "cell_type": "markdown",
   "id": "34cf30c1",
   "metadata": {},
   "source": [
    "# Table of contents:\n",
    "1. [**Case Study Overview**](#1.-Case-Study-Overview:)\n",
    "  + 1.1. [Introduction](#1.1-Introduction:)\n",
    "  + 1.2. [Business Understanding](#1.2-Business-Understanding:)\n",
    "  + 1.3. [Explore the Data](#1.3-Explore-the-Data:)\n",
    "  + 1.4. [Document the Story](#1.4-Document-the-Story:)\n",
    "  + 1.5. [Dataset](#1.5-Dataset:)\n",
    "  + 1.6. [Software requirements](#1.6-Software-requirements:)\n",
    "\n",
    "\n",
    "2. [**Gathering Data**](#1.-Gathering-Data) \n",
    "  + 2.1. [Gather data from web](#1.1-Gather-data-from-web:)\n",
    "  + 2.2. [Dictionary Exploration](#1.2-Dictionary-Exploration:)\n",
    "  + 2.3. [Dataset Creation](#1.3-Dataset-Creation:)\n",
    "  + 2.4. [Dataset Exploration](#1.4-Dataset-Exploration:)"
   ]
  },
  {
   "cell_type": "markdown",
   "id": "5767dda1",
   "metadata": {},
   "source": [
    "---"
   ]
  },
  {
   "cell_type": "markdown",
   "id": "1f27bd8f",
   "metadata": {},
   "source": [
    "## 1. `Case Study Overview:`\n",
    "================================="
   ]
  },
  {
   "cell_type": "markdown",
   "id": "48933cec",
   "metadata": {},
   "source": [
    "  + 1.1. [Introduction](#1.1-Introduction:)\n",
    "  + 1.2. [Business Understanding](#1.2-Business-Understanding:)\n",
    "  + 1.3. [Explore the Data](#1.3-Explore-the-Data:)\n",
    "  + 1.4. [Document the Story](#1.4-Document-the-Story:)\n",
    "  + 1.5. [Dataset](#1.5-Dataset:)\n",
    "  + 1.6. [Software requirements](#1.6-Software-requirements:)"
   ]
  },
  {
   "cell_type": "markdown",
   "id": "eeca7229",
   "metadata": {},
   "source": [
    "### <ins>[1](#1.-Case-Study-Overview:).1 Introduction:</ins>"
   ]
  },
  {
   "cell_type": "markdown",
   "id": "2a5b942c",
   "metadata": {},
   "source": [
    "<p style='text-align: justify;'>\n",
    "Goal of this Case Study is to gain an industry experience on how real business problems are solved using EDA (Exploratory Data Analysis). In this case study, apart from applying the techniques in EDA, also developed a basic understanding of Risk Analytics in Banking and Financial Services and understand how data is used to minimise the risk of losing money while lending to customers.\n",
    "</p>"
   ]
  },
  {
   "cell_type": "markdown",
   "id": "cec49458",
   "metadata": {},
   "source": [
    "### <ins>[1](#1.-Case-Study-Overview:).2 Business Understanding:</ins>"
   ]
  },
  {
   "cell_type": "markdown",
   "id": "aec5810b",
   "metadata": {},
   "source": [
    "<p style='text-align: justify;'>\n",
    "You work for a consumer finance company which specialises in lending various types of loans to urban customers. When the company receives a loan application, the company has to make a decision for loan approval based on the applicant’s profile. Two types of risks are associated with the bank’s decision:\n",
    "\n",
    "1. If the applicant is likely to repay the loan, then not approving the loan results in a loss of business to the company\n",
    "\n",
    "2. If the applicant is not likely to repay the loan, i.e. he/she is likely to default, then approving the loan may lead to a financial loss for the company\n",
    "</p>"
   ]
  },
  {
   "cell_type": "code",
   "execution_count": null,
   "id": "4cb21e87",
   "metadata": {},
   "outputs": [],
   "source": []
  },
  {
   "cell_type": "code",
   "execution_count": null,
   "id": "b26da8ce",
   "metadata": {},
   "outputs": [],
   "source": []
  },
  {
   "cell_type": "code",
   "execution_count": null,
   "id": "3379dd26",
   "metadata": {},
   "outputs": [],
   "source": []
  },
  {
   "cell_type": "code",
   "execution_count": null,
   "id": "abeeb4ce",
   "metadata": {},
   "outputs": [],
   "source": []
  }
 ],
 "metadata": {
  "kernelspec": {
   "display_name": "Python 3",
   "language": "python",
   "name": "python3"
  },
  "language_info": {
   "codemirror_mode": {
    "name": "ipython",
    "version": 3
   },
   "file_extension": ".py",
   "mimetype": "text/x-python",
   "name": "python",
   "nbconvert_exporter": "python",
   "pygments_lexer": "ipython3",
   "version": "3.8.8"
  }
 },
 "nbformat": 4,
 "nbformat_minor": 5
}
